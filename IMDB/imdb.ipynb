{
 "cells": [
  {
   "cell_type": "code",
   "execution_count": 1,
   "id": "53041b5e",
   "metadata": {},
   "outputs": [],
   "source": [
    "from keras.datasets import imdb\n",
    "from keras import preprocessing\n",
    "\n",
    "max_features = 10000\n",
    "maxlen = 20\n",
    "\n",
    "(x_train, y_train), (x_test, y_test) = imdb.load_data(num_words = max_features)\n",
    "\n",
    "x_train = preprocessing.sequence.pad_sequences(x_train, maxlen = maxlen)\n",
    "x_test = preprocessing.sequence.pad_sequences(x_test, maxlen = maxlen)\n"
   ]
  },
  {
   "cell_type": "code",
   "execution_count": 2,
   "id": "63902ccf",
   "metadata": {
    "scrolled": true
   },
   "outputs": [
    {
     "name": "stdout",
     "output_type": "stream",
     "text": [
      "Model: \"sequential\"\n",
      "_________________________________________________________________\n",
      "Layer (type)                 Output Shape              Param #   \n",
      "=================================================================\n",
      "embedding (Embedding)        (None, 20, 8)             80000     \n",
      "_________________________________________________________________\n",
      "flatten (Flatten)            (None, 160)               0         \n",
      "_________________________________________________________________\n",
      "dense (Dense)                (None, 1)                 161       \n",
      "=================================================================\n",
      "Total params: 80,161\n",
      "Trainable params: 80,161\n",
      "Non-trainable params: 0\n",
      "_________________________________________________________________\n",
      "Epoch 1/10\n",
      "625/625 [==============================] - 2s 1ms/step - loss: 0.6590 - acc: 0.6400 - val_loss: 0.5979 - val_acc: 0.7088\n",
      "Epoch 2/10\n",
      "625/625 [==============================] - 1s 980us/step - loss: 0.5259 - acc: 0.7558 - val_loss: 0.5167 - val_acc: 0.7330\n",
      "Epoch 3/10\n",
      "625/625 [==============================] - 1s 1ms/step - loss: 0.4542 - acc: 0.7901 - val_loss: 0.4970 - val_acc: 0.7488\n",
      "Epoch 4/10\n",
      "625/625 [==============================] - 1s 980us/step - loss: 0.4184 - acc: 0.8088 - val_loss: 0.4929 - val_acc: 0.7506\n",
      "Epoch 5/10\n",
      "625/625 [==============================] - 1s 966us/step - loss: 0.3932 - acc: 0.8239 - val_loss: 0.4959 - val_acc: 0.7550\n",
      "Epoch 6/10\n",
      "625/625 [==============================] - 1s 1ms/step - loss: 0.3720 - acc: 0.8352 - val_loss: 0.4987 - val_acc: 0.7570\n",
      "Epoch 7/10\n",
      "625/625 [==============================] - 1s 963us/step - loss: 0.3534 - acc: 0.8461 - val_loss: 0.5042 - val_acc: 0.7552\n",
      "Epoch 8/10\n",
      "625/625 [==============================] - 1s 976us/step - loss: 0.3362 - acc: 0.8550 - val_loss: 0.5118 - val_acc: 0.7532\n",
      "Epoch 9/10\n",
      "625/625 [==============================] - 1s 1ms/step - loss: 0.3200 - acc: 0.8651 - val_loss: 0.5190 - val_acc: 0.7506\n",
      "Epoch 10/10\n",
      "625/625 [==============================] - 1s 1ms/step - loss: 0.3046 - acc: 0.8730 - val_loss: 0.5294 - val_acc: 0.7472\n"
     ]
    }
   ],
   "source": [
    "from keras.models import Sequential\n",
    "from keras.layers import Flatten, Dense, Embedding\n",
    "\n",
    "model = Sequential()\n",
    "model.add(Embedding(10000, 8, input_length = maxlen))\n",
    "model.add(Flatten())\n",
    "\n",
    "model.add(Dense(1, activation = 'sigmoid'))\n",
    "model.compile(optimizer = 'rmsprop', loss = 'binary_crossentropy', metrics = ['acc'])\n",
    "model.summary()\n",
    "\n",
    "history = model.fit(x_train, y_train, epochs = 10, batch_size = 32, validation_split = 0.2)"
   ]
  }
 ],
 "metadata": {
  "kernelspec": {
   "display_name": "Python 3 (ipykernel)",
   "language": "python",
   "name": "python3"
  },
  "language_info": {
   "codemirror_mode": {
    "name": "ipython",
    "version": 3
   },
   "file_extension": ".py",
   "mimetype": "text/x-python",
   "name": "python",
   "nbconvert_exporter": "python",
   "pygments_lexer": "ipython3",
   "version": "3.7.11"
  }
 },
 "nbformat": 4,
 "nbformat_minor": 5
}
