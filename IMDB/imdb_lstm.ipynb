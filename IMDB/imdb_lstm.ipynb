{
 "cells": [
  {
   "cell_type": "code",
   "execution_count": 1,
   "metadata": {},
   "outputs": [
    {
     "name": "stdout",
     "output_type": "stream",
     "text": [
      "Loading data...\n",
      "25000 train sequences\n",
      "25000 test sequnces\n",
      "Pad sequnces (sample x time)\n",
      "input_train shape: (25000, 100)\n",
      "input_test shape: (25000, 100)\n"
     ]
    }
   ],
   "source": [
    "from keras.datasets import imdb\n",
    "from keras.preprocessing import sequence\n",
    "\n",
    "max_feature = 10000\n",
    "maxlen = 100\n",
    "batch_size = 32\n",
    "\n",
    "print('Loading data...')\n",
    "(input_train, y_train), (input_test, y_test) = imdb.load_data(num_words = max_feature)\n",
    "print(len(input_train), 'train sequences')\n",
    "print(len(input_test), 'test sequnces')\n",
    "\n",
    "print('Pad sequnces (sample x time)')\n",
    "input_train = sequence.pad_sequences(input_train, maxlen = maxlen)\n",
    "input_test = sequence.pad_sequences(input_test, maxlen = maxlen)\n",
    "\n",
    "print('input_train shape:', input_train.shape)\n",
    "print('input_test shape:', input_test.shape)"
   ]
  },
  {
   "cell_type": "code",
   "execution_count": 2,
   "metadata": {},
   "outputs": [
    {
     "name": "stdout",
     "output_type": "stream",
     "text": [
      "Epoch 1/10\n",
      "157/157 [==============================] - 11s 52ms/step - loss: 0.5001 - acc: 0.7641 - val_loss: 0.3947 - val_acc: 0.8298\n",
      "Epoch 2/10\n",
      "157/157 [==============================] - 9s 58ms/step - loss: 0.3126 - acc: 0.8712 - val_loss: 0.3333 - val_acc: 0.8530\n",
      "Epoch 3/10\n",
      "157/157 [==============================] - 10s 63ms/step - loss: 0.2535 - acc: 0.9019 - val_loss: 0.4670 - val_acc: 0.8232\n",
      "Epoch 4/10\n",
      "157/157 [==============================] - 9s 60ms/step - loss: 0.2236 - acc: 0.9139 - val_loss: 0.3815 - val_acc: 0.8446\n",
      "Epoch 5/10\n",
      "157/157 [==============================] - 9s 59ms/step - loss: 0.1996 - acc: 0.9260 - val_loss: 0.3678 - val_acc: 0.8462\n",
      "Epoch 6/10\n",
      "157/157 [==============================] - 9s 59ms/step - loss: 0.1858 - acc: 0.9317 - val_loss: 0.4080 - val_acc: 0.8456\n",
      "Epoch 7/10\n",
      "157/157 [==============================] - 9s 55ms/step - loss: 0.1686 - acc: 0.9402 - val_loss: 0.4204 - val_acc: 0.8376\n",
      "Epoch 8/10\n",
      "157/157 [==============================] - 9s 55ms/step - loss: 0.1569 - acc: 0.9438 - val_loss: 0.4891 - val_acc: 0.8226\n",
      "Epoch 9/10\n",
      "157/157 [==============================] - 8s 54ms/step - loss: 0.1500 - acc: 0.9458 - val_loss: 0.5720 - val_acc: 0.8172\n",
      "Epoch 10/10\n",
      "157/157 [==============================] - 9s 55ms/step - loss: 0.1377 - acc: 0.9528 - val_loss: 0.6313 - val_acc: 0.8076\n"
     ]
    }
   ],
   "source": [
    "from keras.layers import Dense, Embedding, LSTM\n",
    "from keras.models import Sequential\n",
    "\n",
    "model = Sequential()\n",
    "model.add(Embedding(max_feature, 32))\n",
    "model.add(LSTM(32))\n",
    "model.add(Dense(1, activation = 'sigmoid'))\n",
    "\n",
    "model.compile(optimizer = 'rmsprop', loss = 'binary_crossentropy', metrics = ['acc'])\n",
    "history = model.fit(input_train, y_train, epochs = 10, batch_size = 128, validation_split = 0.2)"
   ]
  },
  {
   "cell_type": "code",
   "execution_count": 3,
   "metadata": {},
   "outputs": [
    {
     "data": {
      "image/png": "[encoded data removed]",
      "text/plain": [
       "<Figure size 432x288 with 1 Axes>"
      ]
     },
     "metadata": {
      "needs_background": "dark"
     },
     "output_type": "display_data"
    },
    {
     "data": {
      "image/png": "[encoded data removed]",
      "text/plain": [
       "<Figure size 432x288 with 1 Axes>"
      ]
     },
     "metadata": {
      "needs_background": "dark"
     },
     "output_type": "display_data"
    }
   ],
   "source": [
    "import matplotlib.pyplot as plt\n",
    "%matplotlib inline\n",
    "\n",
    "acc = history.history['acc']\n",
    "val_acc = history.history['val_acc']\n",
    "loss = history.history['loss']\n",
    "val_loss = history.history['val_loss']\n",
    "\n",
    "epochs = range(1, len(acc) + 1)\n",
    "plt.plot(epochs, acc, 'bo', label = 'Training acc')\n",
    "plt.plot(epochs, val_acc, 'b', label = 'Validation acc')\n",
    "plt.title('Training and validation acc')\n",
    "plt.legend()\n",
    "\n",
    "plt.figure()\n",
    "\n",
    "plt.plot(epochs, loss, 'bo', label = 'Training loss')\n",
    "plt.plot(epochs, val_loss, 'b', label = 'Validation loss')\n",
    "plt.title('Training and Validation loss')\n",
    "plt.legend()\n",
    "\n",
    "plt.show()"
   ]
  }
 ],
 "metadata": {
  "interpreter": {
   "hash": "a8f61be024eba58adef938c9aa1e29e02cb3dece83a5348b1a2dafd16a070453"
  },
  "kernelspec": {
   "display_name": "Python 3.7.11 64-bit ('base': conda)",
   "language": "python",
   "name": "python3"
  },
  "language_info": {
   "codemirror_mode": {
    "name": "ipython",
    "version": 3
   },
   "file_extension": ".py",
   "mimetype": "text/x-python",
   "name": "python",
   "nbconvert_exporter": "python",
   "pygments_lexer": "ipython3",
   "version": "3.7.11"
  },
  "orig_nbformat": 4
 },
 "nbformat": 4,
 "nbformat_minor": 2
}
